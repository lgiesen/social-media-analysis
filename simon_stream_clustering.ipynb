{
 "cells": [
  {
   "cell_type": "markdown",
   "metadata": {},
   "source": [
    "# Stream Clustering"
   ]
  },
  {
   "cell_type": "markdown",
   "metadata": {},
   "source": []
  },
  {
   "cell_type": "code",
   "execution_count": 1,
   "metadata": {},
   "outputs": [],
   "source": [
    "from scripts.preprocess_data import *\n",
    "from scripts.preprocess_lemmatizer import preprocess_lemmatizer\n",
    "from river import cluster\n",
    "from river import stream\n",
    "from river import feature_extraction\n",
    "from river import compose\n",
    "import nltk\n",
    "from scipy.cluster.hierarchy import linkage, dendrogram, fcluster\n",
    "import matplotlib.pyplot as plt\n",
    "#nltk.download('wordnet')\n"
   ]
  },
  {
   "cell_type": "code",
   "execution_count": 2,
   "metadata": {},
   "outputs": [],
   "source": [
    "df = load_data()\n",
    "df['datetime'] = pd.to_datetime(df['timestamp'], unit='ms')\n",
    "df['minute_of_day'] = df['datetime'].dt.hour * 60 + df['datetime'].dt.minute\n",
    "length = 1000\n",
    "df_sub = df.iloc[:length]\n"
   ]
  },
  {
   "cell_type": "code",
   "execution_count": 3,
   "metadata": {},
   "outputs": [],
   "source": [
    "preprocessed_text_sub = [ preprocess_lemmatizer(tweet)for tweet in df_sub['text']]\n"
   ]
  },
  {
   "cell_type": "code",
   "execution_count": 4,
   "metadata": {},
   "outputs": [],
   "source": [
    "text_clust_algo = cluster.TextClust(real_time_fading=False, fading_factor=0.001, tgap=100, auto_r=False,\n",
    "    radius=0.9, num_macro = 10)\n",
    "\n",
    "stopwords = [ 'stop', 'the', 'to', 'and', 'a', 'in', 'it', 'is', 'I']"
   ]
  },
  {
   "cell_type": "code",
   "execution_count": 5,
   "metadata": {},
   "outputs": [],
   "source": [
    "model = compose.Pipeline(\n",
    "    feature_extraction.BagOfWords(lowercase=True, ngram_range=(1, 2), stop_words=stopwords),\n",
    "    text_clust_algo,\n",
    ")"
   ]
  },
  {
   "cell_type": "markdown",
   "metadata": {},
   "source": []
  },
  {
   "cell_type": "markdown",
   "metadata": {},
   "source": [
    "### Variable log [(minute_of_day_1,[(microcluster_id_1, microcluster_weight_1), (microcluster_id_x, microcluster_weight_x)]), (minute_of_day_x,[(microcluster_id_1, microcluster_weight_1), (microcluster_id_x, microcluster_weight_x)])]"
   ]
  },
  {
   "cell_type": "code",
   "execution_count": 9,
   "metadata": {},
   "outputs": [
    {
     "data": {
      "text/plain": [
       "(11,\n",
       " [(0, 202.1489792519564),\n",
       "  (1, 119.09912631706138),\n",
       "  (2, 21.433525375966205),\n",
       "  (3, 64.415528933832),\n",
       "  (4, 150.36934367228264),\n",
       "  (5, 194.28158858718916),\n",
       "  (7, 4.394747462103468),\n",
       "  (15, 24.0860703367472),\n",
       "  (16, 33.371623106962105),\n",
       "  (17, 30.39886825684201),\n",
       "  (26, 17.557371928853936),\n",
       "  (31, 8.984072637259626),\n",
       "  (39, 5.516265563229202),\n",
       "  (42, 32.03363708417103),\n",
       "  (47, 12.258928103469385),\n",
       "  (53, 4.382272259023398),\n",
       "  (54, 26.957183302610183),\n",
       "  (56, 28.685477739672542),\n",
       "  (57, 11.382728408030479),\n",
       "  (60, 25.68592355838851),\n",
       "  (76, 3.903797640599666),\n",
       "  (82, 11.026941988530892),\n",
       "  (85, 3.156815693379905),\n",
       "  (91, 6.2044462183146045),\n",
       "  (96, 1.7444453685341352),\n",
       "  (102, 10.845889747647059),\n",
       "  (103, 12.967696283418599),\n",
       "  (109, 1.9128364552918384),\n",
       "  (111, 7.411512716609373),\n",
       "  (119, 13.117120573578912),\n",
       "  (131, 12.631687089874541),\n",
       "  (132, 3.83134428560566),\n",
       "  (146, 6.441586850125729),\n",
       "  (147, 3.028985800057496),\n",
       "  (151, 3.2484554813589113),\n",
       "  (159, 7.415554194755443),\n",
       "  (161, 9.832841163915742),\n",
       "  (163, 6.071209302678614),\n",
       "  (173, 5.679796253096152),\n",
       "  (177, 7.380236744684869),\n",
       "  (185, 11.829682556489924),\n",
       "  (213, 8.838908616033091),\n",
       "  (214, 14.396167174071792),\n",
       "  (226, 7.550355590032901),\n",
       "  (227, 3.91449540302535),\n",
       "  (251, 5.1232699913603925),\n",
       "  (331, 8.897825552094874),\n",
       "  (426, 0.9414784645412062),\n",
       "  (427, 0.9526379980439373),\n",
       "  (428, 0.9546210141397169),\n",
       "  (429, 0.9612609283887613),\n",
       "  (430, 0.9699619103417348),\n",
       "  (431, 0.9713074955416333),\n",
       "  (432, 0.9910295632640791),\n",
       "  (433, 1),\n",
       "  (434, 1),\n",
       "  (435, 1),\n",
       "  (436, 1),\n",
       "  (437, 1),\n",
       "  (438, 1),\n",
       "  (439, 1),\n",
       "  (440, 1),\n",
       "  (441, 1),\n",
       "  (442, 1),\n",
       "  (443, 1)])"
      ]
     },
     "execution_count": 9,
     "metadata": {},
     "output_type": "execute_result"
    }
   ],
   "source": [
    "i=0\n",
    "old_time = df_sub.loc[i, 'minute_of_day']\n",
    "log = []\n",
    "for text in preprocessed_text_sub:\n",
    "    \n",
    "    model.learn_one(text)\n",
    "    if df_sub.loc[i, 'minute_of_day'] != old_time:\n",
    "        old_time = df_sub.loc[i, 'minute_of_day']\n",
    "        micro_clusters = text_clust_algo.micro_clusters\n",
    "        keys = [int(key) for key in micro_clusters.keys()]\n",
    "        logging_list = list()\n",
    "        for key in keys:\n",
    "            micro_cluster = micro_clusters[key]\n",
    "            weight = micro_cluster.weight\n",
    "            logging_list.append((key, weight))\n",
    "\n",
    "        log.append((old_time, logging_list))\n",
    "        \n",
    "    i += 1\n",
    "log[10]\n",
    "        #TODO: LOG micro_cluster_id, micro_cluster_weight, minute_of_day\n",
    "#         old_time = df_sub['datetime'].dt.minute\n",
    "#         log_micro_clusters.\n",
    "        \n",
    "    # i+=1\n",
    "#text_clust_algo.showclusters(topn=10,num=5)\n",
    "#text_clust_algo.updateMacroClusters()\n",
    "#macroclust = text_clust_algo.get_macroclusters()\n",
    "#distance_matrix = text_clust_algo._get_distance_matrix(text_clust_algo.micro_clusters)\n",
    "\n"
   ]
  },
  {
   "cell_type": "code",
   "execution_count": 16,
   "metadata": {},
   "outputs": [
    {
     "data": {
      "text/plain": [
       "15"
      ]
     },
     "execution_count": 16,
     "metadata": {},
     "output_type": "execute_result"
    }
   ],
   "source": [
    "len(log)"
   ]
  },
  {
   "cell_type": "code",
   "execution_count": 18,
   "metadata": {},
   "outputs": [
    {
     "data": {
      "text/plain": [
       "(15,\n",
       " [(0, 199.53412387482885),\n",
       "  (1, 120.34521091036696),\n",
       "  (2, 21.001404433267805),\n",
       "  (3, 69.48100940016202),\n",
       "  (4, 150.9161762094778),\n",
       "  (5, 198.86971594442787),\n",
       "  (7, 4.502677149010834),\n",
       "  (15, 22.405327294924458),\n",
       "  (16, 32.73876095350647),\n",
       "  (17, 29.427685577291662),\n",
       "  (26, 16.06460097776224),\n",
       "  (31, 8.424846566426597),\n",
       "  (39, 4.480599922670298),\n",
       "  (42, 31.4514239316014),\n",
       "  (47, 11.760927283634741),\n",
       "  (53, 3.5595111438772085),\n",
       "  (54, 27.950497234488534),\n",
       "  (56, 28.25998666520568),\n",
       "  (57, 12.087607653313764),\n",
       "  (60, 24.928988418000245),\n",
       "  (76, 4.103901980003705),\n",
       "  (82, 11.022638554184649),\n",
       "  (85, 2.5641311118027987),\n",
       "  (91, 5.03957630888942),\n",
       "  (96, 1.4169299309043877),\n",
       "  (102, 8.809599938141849),\n",
       "  (103, 11.476856048256284),\n",
       "  (109, 1.6185630105356148),\n",
       "  (111, 6.323696076300584),\n",
       "  (119, 14.984197495356671),\n",
       "  (131, 13.331273543678162),\n",
       "  (132, 4.096783648723953),\n",
       "  (146, 7.1811458261157295),\n",
       "  (147, 4.263884529458642),\n",
       "  (151, 4.505278685642446),\n",
       "  (159, 8.838922410397734),\n",
       "  (161, 10.598695656687976),\n",
       "  (163, 5.864387296417782),\n",
       "  (173, 5.546461108929325),\n",
       "  (177, 5.994614981546627),\n",
       "  (185, 11.694188776457604),\n",
       "  (213, 8.937763370580845),\n",
       "  (214, 15.150642382558928),\n",
       "  (226, 7.164382296184736),\n",
       "  (227, 4.112591263169616),\n",
       "  (251, 5.262126377905555),\n",
       "  (331, 11.13147484412374),\n",
       "  (447, 1.8237258921434885),\n",
       "  (453, 0.9408261075137876),\n",
       "  (454, 0.9427845359182395),\n",
       "  (455, 0.963261894020148),\n",
       "  (456, 0.9666060970649732),\n",
       "  (457, 0.9672763296139321),\n",
       "  (458, 0.9767085289622274),\n",
       "  (459, 0.9821395952633915),\n",
       "  (460, 0.9958497530944581),\n",
       "  (461, 0.9972312513520695),\n",
       "  (462, 1)])"
      ]
     },
     "execution_count": 18,
     "metadata": {},
     "output_type": "execute_result"
    }
   ],
   "source": [
    "log[14]"
   ]
  },
  {
   "cell_type": "code",
   "execution_count": 47,
   "metadata": {},
   "outputs": [
    {
     "name": "stderr",
     "output_type": "stream",
     "text": [
      "C:\\Users\\Simon.Luttmann\\AppData\\Local\\Temp\\ipykernel_18152\\3172585452.py:1: ClusterWarning: The symmetric non-negative hollow observation matrix looks suspiciously like an uncondensed distance matrix\n",
      "  complete_linkage_stream_clust = linkage(distance_matrix,method='ward')\n"
     ]
    }
   ],
   "source": [
    "complete_linkage_stream_clust = linkage(distance_matrix,method='ward')"
   ]
  },
  {
   "cell_type": "code",
   "execution_count": 49,
   "metadata": {},
   "outputs": [
    {
     "data": {
      "image/png": "[encoded data removed]",
      "text/plain": [
       "<Figure size 640x480 with 1 Axes>"
      ]
     },
     "metadata": {},
     "output_type": "display_data"
    }
   ],
   "source": [
    "dendrogram(complete_linkage_stream_clust, truncate_mode='lastp', p=30)\n",
    "plt.show()"
   ]
  },
  {
   "cell_type": "code",
   "execution_count": 54,
   "metadata": {},
   "outputs": [
    {
     "data": {
      "text/plain": [
       "array([1, 1, 2, 7, 7, 3, 6, 7, 7, 3, 7, 4, 4, 5, 1, 5, 7, 7, 3, 6, 7, 1,\n",
       "       2, 1, 7, 3, 7, 7, 7, 5, 7, 7, 7, 2, 1, 1, 2, 7, 1, 7, 7, 7, 7, 7,\n",
       "       7, 7, 7, 7, 7, 7, 7, 7, 7, 7, 7, 7, 7, 7, 7, 7, 7, 7, 7, 7],\n",
       "      dtype=int32)"
      ]
     },
     "execution_count": 54,
     "metadata": {},
     "output_type": "execute_result"
    }
   ],
   "source": [
    "threshold = 1.5\n",
    "#6.3  # Replace with the value identified from the dendrogram\n",
    "clusters = fcluster(complete_linkage_stream_clust, t=threshold, criterion='distance')\n",
    "clusters[:]"
   ]
  },
  {
   "cell_type": "code",
   "execution_count": 16,
   "metadata": {},
   "outputs": [],
   "source": [
    "text_clust_algo._agglomerative_clustering()"
   ]
  },
  {
   "cell_type": "code",
   "execution_count": 24,
   "metadata": {},
   "outputs": [
    {
     "name": "stdout",
     "output_type": "stream",
     "text": [
      "-------------------------------------------\n",
      "Summary of micro clusters:\n",
      "----\n",
      "micro cluster id 0\n",
      "micro cluster weight 490.25358925561653\n",
      "weight: 88.32\t token: health\n",
      "weight: 73.25\t token: politics\n",
      "weight: 68.8\t token: business\n",
      "-------------------------------------------\n"
     ]
    }
   ],
   "source": []
  },
  {
   "cell_type": "code",
   "execution_count": null,
   "metadata": {},
   "outputs": [
    {
     "ename": "TypeError",
     "evalue": "can't multiply sequence by non-int of type 'float'",
     "output_type": "error",
     "traceback": [
      "\u001b[1;31m---------------------------------------------------------------------------\u001b[0m",
      "\u001b[1;31mTypeError\u001b[0m                                 Traceback (most recent call last)",
      "Cell \u001b[1;32mIn[12], line 1\u001b[0m\n\u001b[1;32m----> 1\u001b[0m \u001b[43mtext_clust_algo\u001b[49m\u001b[38;5;241;43m.\u001b[39;49m\u001b[43mlearn_one\u001b[49m\u001b[43m(\u001b[49m\u001b[43mpreprocessed_text_list_of_dicts\u001b[49m\u001b[43m[\u001b[49m\u001b[38;5;241;43m0\u001b[39;49m\u001b[43m]\u001b[49m\u001b[43m)\u001b[49m\n\u001b[0;32m      2\u001b[0m text_clust_algo\u001b[38;5;241m.\u001b[39mmicro_clusters\n",
      "File \u001b[1;32mc:\\Users\\Simon.Luttmann\\AppData\\Local\\Programs\\Python\\Python312\\Lib\\site-packages\\river\\cluster\\textclust.py:185\u001b[0m, in \u001b[0;36mTextClust.learn_one\u001b[1;34m(self, x, t, w)\u001b[0m\n\u001b[0;32m    182\u001b[0m \u001b[38;5;66;03m# calculate idf\u001b[39;00m\n\u001b[0;32m    183\u001b[0m idf \u001b[38;5;241m=\u001b[39m \u001b[38;5;28mself\u001b[39m\u001b[38;5;241m.\u001b[39m_calculateIDF(\u001b[38;5;28mself\u001b[39m\u001b[38;5;241m.\u001b[39mmicro_clusters\u001b[38;5;241m.\u001b[39mvalues())\n\u001b[1;32m--> 185\u001b[0m clusterId, min_dist \u001b[38;5;241m=\u001b[39m \u001b[38;5;28;43mself\u001b[39;49m\u001b[38;5;241;43m.\u001b[39;49m\u001b[43m_get_closest_mc\u001b[49m\u001b[43m(\u001b[49m\u001b[43mmc\u001b[49m\u001b[43m,\u001b[49m\u001b[43m \u001b[49m\u001b[43midf\u001b[49m\u001b[43m,\u001b[49m\u001b[43m \u001b[49m\u001b[38;5;28;43mself\u001b[39;49m\u001b[38;5;241;43m.\u001b[39;49m\u001b[43mmicro_distance\u001b[49m\u001b[43m)\u001b[49m\n\u001b[0;32m    187\u001b[0m \u001b[38;5;66;03m# if we found a cluster that is close enough we merge our incoming data into it\u001b[39;00m\n\u001b[0;32m    188\u001b[0m \u001b[38;5;28;01mif\u001b[39;00m clusterId \u001b[38;5;129;01mis\u001b[39;00m \u001b[38;5;129;01mnot\u001b[39;00m \u001b[38;5;28;01mNone\u001b[39;00m:\n",
      "File \u001b[1;32mc:\\Users\\Simon.Luttmann\\AppData\\Local\\Programs\\Python\\Python312\\Lib\\site-packages\\river\\cluster\\textclust.py:245\u001b[0m, in \u001b[0;36mTextClust._get_closest_mc\u001b[1;34m(self, mc, idf, distance)\u001b[0m\n\u001b[0;32m    243\u001b[0m \u001b[38;5;66;03m# calculate distances and choose the smallest one\u001b[39;00m\n\u001b[0;32m    244\u001b[0m \u001b[38;5;28;01mfor\u001b[39;00m key \u001b[38;5;129;01min\u001b[39;00m \u001b[38;5;28mself\u001b[39m\u001b[38;5;241m.\u001b[39mmicro_clusters\u001b[38;5;241m.\u001b[39mkeys():\n\u001b[1;32m--> 245\u001b[0m     dist \u001b[38;5;241m=\u001b[39m \u001b[43mdistance\u001b[49m\u001b[38;5;241;43m.\u001b[39;49m\u001b[43mdist\u001b[49m\u001b[43m(\u001b[49m\u001b[43mmc\u001b[49m\u001b[43m,\u001b[49m\u001b[43m \u001b[49m\u001b[38;5;28;43mself\u001b[39;49m\u001b[38;5;241;43m.\u001b[39;49m\u001b[43mmicro_clusters\u001b[49m\u001b[43m[\u001b[49m\u001b[43mkey\u001b[49m\u001b[43m]\u001b[49m\u001b[43m,\u001b[49m\u001b[43m \u001b[49m\u001b[43midf\u001b[49m\u001b[43m)\u001b[49m\n\u001b[0;32m    247\u001b[0m     counter \u001b[38;5;241m=\u001b[39m counter \u001b[38;5;241m+\u001b[39m \u001b[38;5;241m1\u001b[39m\n\u001b[0;32m    248\u001b[0m     sumdist \u001b[38;5;241m+\u001b[39m\u001b[38;5;241m=\u001b[39m dist\n",
      "File \u001b[1;32mc:\\Users\\Simon.Luttmann\\AppData\\Local\\Programs\\Python\\Python312\\Lib\\site-packages\\river\\cluster\\textclust.py:602\u001b[0m, in \u001b[0;36mTextClust.distances.dist\u001b[1;34m(self, m1, m2, idf)\u001b[0m\n\u001b[0;32m    601\u001b[0m \u001b[38;5;28;01mdef\u001b[39;00m \u001b[38;5;21mdist\u001b[39m(\u001b[38;5;28mself\u001b[39m, m1, m2, idf):\n\u001b[1;32m--> 602\u001b[0m     \u001b[38;5;28;01mreturn\u001b[39;00m \u001b[38;5;28;43mgetattr\u001b[39;49m\u001b[43m(\u001b[49m\u001b[38;5;28;43mself\u001b[39;49m\u001b[43m,\u001b[49m\u001b[43m \u001b[49m\u001b[38;5;28;43mself\u001b[39;49m\u001b[38;5;241;43m.\u001b[39;49m\u001b[43mtype\u001b[49m\u001b[43m,\u001b[49m\u001b[43m \u001b[49m\u001b[38;5;28;43;01mlambda\u001b[39;49;00m\u001b[43m:\u001b[49m\u001b[43m \u001b[49m\u001b[38;5;124;43m\"\u001b[39;49m\u001b[38;5;124;43mInvalid distance measure\u001b[39;49m\u001b[38;5;124;43m\"\u001b[39;49m\u001b[43m)\u001b[49m\u001b[43m(\u001b[49m\u001b[43mm1\u001b[49m\u001b[43m,\u001b[49m\u001b[43m \u001b[49m\u001b[43mm2\u001b[49m\u001b[43m,\u001b[49m\u001b[43m \u001b[49m\u001b[43midf\u001b[49m\u001b[43m)\u001b[49m\n",
      "File \u001b[1;32mc:\\Users\\Simon.Luttmann\\AppData\\Local\\Programs\\Python\\Python312\\Lib\\site-packages\\river\\cluster\\textclust.py:612\u001b[0m, in \u001b[0;36mTextClust.distances.tfidf_cosine_distance\u001b[1;34m(self, mc, microcluster, idf)\u001b[0m\n\u001b[0;32m    610\u001b[0m     \u001b[38;5;28;01mif\u001b[39;00m k \u001b[38;5;129;01min\u001b[39;00m idf:\n\u001b[0;32m    611\u001b[0m         \u001b[38;5;28;01mif\u001b[39;00m k \u001b[38;5;129;01min\u001b[39;00m microcluster\u001b[38;5;241m.\u001b[39mtf:\n\u001b[1;32m--> 612\u001b[0m             \u001b[38;5;28msum\u001b[39m \u001b[38;5;241m+\u001b[39m\u001b[38;5;241m=\u001b[39m (\u001b[43mmc\u001b[49m\u001b[38;5;241;43m.\u001b[39;49m\u001b[43mtf\u001b[49m\u001b[43m[\u001b[49m\u001b[43mk\u001b[49m\u001b[43m]\u001b[49m\u001b[43m[\u001b[49m\u001b[38;5;124;43m\"\u001b[39;49m\u001b[38;5;124;43mtf\u001b[39;49m\u001b[38;5;124;43m\"\u001b[39;49m\u001b[43m]\u001b[49m\u001b[43m \u001b[49m\u001b[38;5;241;43m*\u001b[39;49m\u001b[43m \u001b[49m\u001b[43midf\u001b[49m\u001b[43m[\u001b[49m\u001b[43mk\u001b[49m\u001b[43m]\u001b[49m) \u001b[38;5;241m*\u001b[39m (microcluster\u001b[38;5;241m.\u001b[39mtf[k][\u001b[38;5;124m\"\u001b[39m\u001b[38;5;124mtf\u001b[39m\u001b[38;5;124m\"\u001b[39m] \u001b[38;5;241m*\u001b[39m idf[k])\n\u001b[0;32m    613\u001b[0m         tfidflen \u001b[38;5;241m+\u001b[39m\u001b[38;5;241m=\u001b[39m mc\u001b[38;5;241m.\u001b[39mtf[k][\u001b[38;5;124m\"\u001b[39m\u001b[38;5;124mtf\u001b[39m\u001b[38;5;124m\"\u001b[39m] \u001b[38;5;241m*\u001b[39m idf[k] \u001b[38;5;241m*\u001b[39m mc\u001b[38;5;241m.\u001b[39mtf[k][\u001b[38;5;124m\"\u001b[39m\u001b[38;5;124mtf\u001b[39m\u001b[38;5;124m\"\u001b[39m] \u001b[38;5;241m*\u001b[39m idf[k]\n\u001b[0;32m    614\u001b[0m tfidflen \u001b[38;5;241m=\u001b[39m math\u001b[38;5;241m.\u001b[39msqrt(tfidflen)\n",
      "\u001b[1;31mTypeError\u001b[0m: can't multiply sequence by non-int of type 'float'"
     ]
    }
   ],
   "source": [
    "text_clust_algo.learn_one(preprocessed_text_list_of_dicts[0])\n",
    "text_clust_algo.micro_clusters"
   ]
  },
  {
   "cell_type": "markdown",
   "metadata": {},
   "source": []
  }
 ],
 "metadata": {
  "kernelspec": {
   "display_name": "Python 3",
   "language": "python",
   "name": "python3"
  },
  "language_info": {
   "codemirror_mode": {
    "name": "ipython",
    "version": 3
   },
   "file_extension": ".py",
   "mimetype": "text/x-python",
   "name": "python",
   "nbconvert_exporter": "python",
   "pygments_lexer": "ipython3",
   "version": "3.12.4"
  }
 },
 "nbformat": 4,
 "nbformat_minor": 2
}
