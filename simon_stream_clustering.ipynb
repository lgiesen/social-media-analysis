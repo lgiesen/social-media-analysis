{
 "cells": [
  {
   "cell_type": "markdown",
   "metadata": {},
   "source": [
    "# Stream Clustering"
   ]
  },
  {
   "cell_type": "markdown",
   "metadata": {},
   "source": []
  },
  {
   "cell_type": "code",
   "execution_count": 1,
   "metadata": {},
   "outputs": [],
   "source": [
    "from scripts.preprocess_data import *\n",
    "from scripts.preprocess_lemmatizer import preprocess_lemmatizer\n",
    "from river import cluster\n",
    "from river import stream\n",
    "from river import feature_extraction\n",
    "from river import compose\n",
    "import nltk\n",
    "#nltk.download('wordnet')\n"
   ]
  },
  {
   "cell_type": "code",
   "execution_count": 2,
   "metadata": {},
   "outputs": [],
   "source": [
    "df = load_data()\n",
    "df_sub = df.iloc[:1000]"
   ]
  },
  {
   "cell_type": "code",
   "execution_count": 3,
   "metadata": {},
   "outputs": [],
   "source": [
    "preprocessed_text_sub = [ preprocess_lemmatizer(tweet)for tweet in df_sub['text']]\n"
   ]
  },
  {
   "cell_type": "code",
   "execution_count": 5,
   "metadata": {},
   "outputs": [],
   "source": [
    "text_clust_algo = cluster.TextClust(real_time_fading=False, fading_factor=0.001, tgap=100, auto_r=False,\n",
    "    radius=0.9)\n",
    "\n",
    "stopwords = [ 'stop', 'the', 'to', 'and', 'a', 'in', 'it', 'is', 'I']"
   ]
  },
  {
   "cell_type": "code",
   "execution_count": 108,
   "metadata": {},
   "outputs": [],
   "source": [
    "model = compose.Pipeline(\n",
    "    feature_extraction.BagOfWords(lowercase=True, ngram_range=(1, 2), stop_words=stopwords),\n",
    "    text_clust_algo,\n",
    ")"
   ]
  },
  {
   "cell_type": "code",
   "execution_count": null,
   "metadata": {},
   "outputs": [],
   "source": [
    "i=0\n",
    "for text in preprocessed_text_sub:\n",
    "    model.learn_one(text)\n",
    "    i+=1\n",
    "text_clust_algo.showclusters(topn=10,num=20)\n",
    "\n"
   ]
  },
  {
   "cell_type": "code",
   "execution_count": 16,
   "metadata": {},
   "outputs": [],
   "source": [
    "text_clust_algo._agglomerative_clustering()"
   ]
  },
  {
   "cell_type": "code",
   "execution_count": 24,
   "metadata": {},
   "outputs": [
    {
     "name": "stdout",
     "output_type": "stream",
     "text": [
      "-------------------------------------------\n",
      "Summary of micro clusters:\n",
      "----\n",
      "micro cluster id 0\n",
      "micro cluster weight 490.25358925561653\n",
      "weight: 88.32\t token: health\n",
      "weight: 73.25\t token: politics\n",
      "weight: 68.8\t token: business\n",
      "-------------------------------------------\n"
     ]
    }
   ],
   "source": []
  },
  {
   "cell_type": "code",
   "execution_count": null,
   "metadata": {},
   "outputs": [
    {
     "ename": "TypeError",
     "evalue": "can't multiply sequence by non-int of type 'float'",
     "output_type": "error",
     "traceback": [
      "\u001b[1;31m---------------------------------------------------------------------------\u001b[0m",
      "\u001b[1;31mTypeError\u001b[0m                                 Traceback (most recent call last)",
      "Cell \u001b[1;32mIn[12], line 1\u001b[0m\n\u001b[1;32m----> 1\u001b[0m \u001b[43mtext_clust_algo\u001b[49m\u001b[38;5;241;43m.\u001b[39;49m\u001b[43mlearn_one\u001b[49m\u001b[43m(\u001b[49m\u001b[43mpreprocessed_text_list_of_dicts\u001b[49m\u001b[43m[\u001b[49m\u001b[38;5;241;43m0\u001b[39;49m\u001b[43m]\u001b[49m\u001b[43m)\u001b[49m\n\u001b[0;32m      2\u001b[0m text_clust_algo\u001b[38;5;241m.\u001b[39mmicro_clusters\n",
      "File \u001b[1;32mc:\\Users\\Simon.Luttmann\\AppData\\Local\\Programs\\Python\\Python312\\Lib\\site-packages\\river\\cluster\\textclust.py:185\u001b[0m, in \u001b[0;36mTextClust.learn_one\u001b[1;34m(self, x, t, w)\u001b[0m\n\u001b[0;32m    182\u001b[0m \u001b[38;5;66;03m# calculate idf\u001b[39;00m\n\u001b[0;32m    183\u001b[0m idf \u001b[38;5;241m=\u001b[39m \u001b[38;5;28mself\u001b[39m\u001b[38;5;241m.\u001b[39m_calculateIDF(\u001b[38;5;28mself\u001b[39m\u001b[38;5;241m.\u001b[39mmicro_clusters\u001b[38;5;241m.\u001b[39mvalues())\n\u001b[1;32m--> 185\u001b[0m clusterId, min_dist \u001b[38;5;241m=\u001b[39m \u001b[38;5;28;43mself\u001b[39;49m\u001b[38;5;241;43m.\u001b[39;49m\u001b[43m_get_closest_mc\u001b[49m\u001b[43m(\u001b[49m\u001b[43mmc\u001b[49m\u001b[43m,\u001b[49m\u001b[43m \u001b[49m\u001b[43midf\u001b[49m\u001b[43m,\u001b[49m\u001b[43m \u001b[49m\u001b[38;5;28;43mself\u001b[39;49m\u001b[38;5;241;43m.\u001b[39;49m\u001b[43mmicro_distance\u001b[49m\u001b[43m)\u001b[49m\n\u001b[0;32m    187\u001b[0m \u001b[38;5;66;03m# if we found a cluster that is close enough we merge our incoming data into it\u001b[39;00m\n\u001b[0;32m    188\u001b[0m \u001b[38;5;28;01mif\u001b[39;00m clusterId \u001b[38;5;129;01mis\u001b[39;00m \u001b[38;5;129;01mnot\u001b[39;00m \u001b[38;5;28;01mNone\u001b[39;00m:\n",
      "File \u001b[1;32mc:\\Users\\Simon.Luttmann\\AppData\\Local\\Programs\\Python\\Python312\\Lib\\site-packages\\river\\cluster\\textclust.py:245\u001b[0m, in \u001b[0;36mTextClust._get_closest_mc\u001b[1;34m(self, mc, idf, distance)\u001b[0m\n\u001b[0;32m    243\u001b[0m \u001b[38;5;66;03m# calculate distances and choose the smallest one\u001b[39;00m\n\u001b[0;32m    244\u001b[0m \u001b[38;5;28;01mfor\u001b[39;00m key \u001b[38;5;129;01min\u001b[39;00m \u001b[38;5;28mself\u001b[39m\u001b[38;5;241m.\u001b[39mmicro_clusters\u001b[38;5;241m.\u001b[39mkeys():\n\u001b[1;32m--> 245\u001b[0m     dist \u001b[38;5;241m=\u001b[39m \u001b[43mdistance\u001b[49m\u001b[38;5;241;43m.\u001b[39;49m\u001b[43mdist\u001b[49m\u001b[43m(\u001b[49m\u001b[43mmc\u001b[49m\u001b[43m,\u001b[49m\u001b[43m \u001b[49m\u001b[38;5;28;43mself\u001b[39;49m\u001b[38;5;241;43m.\u001b[39;49m\u001b[43mmicro_clusters\u001b[49m\u001b[43m[\u001b[49m\u001b[43mkey\u001b[49m\u001b[43m]\u001b[49m\u001b[43m,\u001b[49m\u001b[43m \u001b[49m\u001b[43midf\u001b[49m\u001b[43m)\u001b[49m\n\u001b[0;32m    247\u001b[0m     counter \u001b[38;5;241m=\u001b[39m counter \u001b[38;5;241m+\u001b[39m \u001b[38;5;241m1\u001b[39m\n\u001b[0;32m    248\u001b[0m     sumdist \u001b[38;5;241m+\u001b[39m\u001b[38;5;241m=\u001b[39m dist\n",
      "File \u001b[1;32mc:\\Users\\Simon.Luttmann\\AppData\\Local\\Programs\\Python\\Python312\\Lib\\site-packages\\river\\cluster\\textclust.py:602\u001b[0m, in \u001b[0;36mTextClust.distances.dist\u001b[1;34m(self, m1, m2, idf)\u001b[0m\n\u001b[0;32m    601\u001b[0m \u001b[38;5;28;01mdef\u001b[39;00m \u001b[38;5;21mdist\u001b[39m(\u001b[38;5;28mself\u001b[39m, m1, m2, idf):\n\u001b[1;32m--> 602\u001b[0m     \u001b[38;5;28;01mreturn\u001b[39;00m \u001b[38;5;28;43mgetattr\u001b[39;49m\u001b[43m(\u001b[49m\u001b[38;5;28;43mself\u001b[39;49m\u001b[43m,\u001b[49m\u001b[43m \u001b[49m\u001b[38;5;28;43mself\u001b[39;49m\u001b[38;5;241;43m.\u001b[39;49m\u001b[43mtype\u001b[49m\u001b[43m,\u001b[49m\u001b[43m \u001b[49m\u001b[38;5;28;43;01mlambda\u001b[39;49;00m\u001b[43m:\u001b[49m\u001b[43m \u001b[49m\u001b[38;5;124;43m\"\u001b[39;49m\u001b[38;5;124;43mInvalid distance measure\u001b[39;49m\u001b[38;5;124;43m\"\u001b[39;49m\u001b[43m)\u001b[49m\u001b[43m(\u001b[49m\u001b[43mm1\u001b[49m\u001b[43m,\u001b[49m\u001b[43m \u001b[49m\u001b[43mm2\u001b[49m\u001b[43m,\u001b[49m\u001b[43m \u001b[49m\u001b[43midf\u001b[49m\u001b[43m)\u001b[49m\n",
      "File \u001b[1;32mc:\\Users\\Simon.Luttmann\\AppData\\Local\\Programs\\Python\\Python312\\Lib\\site-packages\\river\\cluster\\textclust.py:612\u001b[0m, in \u001b[0;36mTextClust.distances.tfidf_cosine_distance\u001b[1;34m(self, mc, microcluster, idf)\u001b[0m\n\u001b[0;32m    610\u001b[0m     \u001b[38;5;28;01mif\u001b[39;00m k \u001b[38;5;129;01min\u001b[39;00m idf:\n\u001b[0;32m    611\u001b[0m         \u001b[38;5;28;01mif\u001b[39;00m k \u001b[38;5;129;01min\u001b[39;00m microcluster\u001b[38;5;241m.\u001b[39mtf:\n\u001b[1;32m--> 612\u001b[0m             \u001b[38;5;28msum\u001b[39m \u001b[38;5;241m+\u001b[39m\u001b[38;5;241m=\u001b[39m (\u001b[43mmc\u001b[49m\u001b[38;5;241;43m.\u001b[39;49m\u001b[43mtf\u001b[49m\u001b[43m[\u001b[49m\u001b[43mk\u001b[49m\u001b[43m]\u001b[49m\u001b[43m[\u001b[49m\u001b[38;5;124;43m\"\u001b[39;49m\u001b[38;5;124;43mtf\u001b[39;49m\u001b[38;5;124;43m\"\u001b[39;49m\u001b[43m]\u001b[49m\u001b[43m \u001b[49m\u001b[38;5;241;43m*\u001b[39;49m\u001b[43m \u001b[49m\u001b[43midf\u001b[49m\u001b[43m[\u001b[49m\u001b[43mk\u001b[49m\u001b[43m]\u001b[49m) \u001b[38;5;241m*\u001b[39m (microcluster\u001b[38;5;241m.\u001b[39mtf[k][\u001b[38;5;124m\"\u001b[39m\u001b[38;5;124mtf\u001b[39m\u001b[38;5;124m\"\u001b[39m] \u001b[38;5;241m*\u001b[39m idf[k])\n\u001b[0;32m    613\u001b[0m         tfidflen \u001b[38;5;241m+\u001b[39m\u001b[38;5;241m=\u001b[39m mc\u001b[38;5;241m.\u001b[39mtf[k][\u001b[38;5;124m\"\u001b[39m\u001b[38;5;124mtf\u001b[39m\u001b[38;5;124m\"\u001b[39m] \u001b[38;5;241m*\u001b[39m idf[k] \u001b[38;5;241m*\u001b[39m mc\u001b[38;5;241m.\u001b[39mtf[k][\u001b[38;5;124m\"\u001b[39m\u001b[38;5;124mtf\u001b[39m\u001b[38;5;124m\"\u001b[39m] \u001b[38;5;241m*\u001b[39m idf[k]\n\u001b[0;32m    614\u001b[0m tfidflen \u001b[38;5;241m=\u001b[39m math\u001b[38;5;241m.\u001b[39msqrt(tfidflen)\n",
      "\u001b[1;31mTypeError\u001b[0m: can't multiply sequence by non-int of type 'float'"
     ]
    }
   ],
   "source": [
    "text_clust_algo.learn_one(preprocessed_text_list_of_dicts[0])\n",
    "text_clust_algo.micro_clusters"
   ]
  },
  {
   "cell_type": "markdown",
   "metadata": {},
   "source": []
  }
 ],
 "metadata": {
  "kernelspec": {
   "display_name": "Python 3",
   "language": "python",
   "name": "python3"
  },
  "language_info": {
   "codemirror_mode": {
    "name": "ipython",
    "version": 3
   },
   "file_extension": ".py",
   "mimetype": "text/x-python",
   "name": "python",
   "nbconvert_exporter": "python",
   "pygments_lexer": "ipython3",
   "version": "3.13.0"
  }
 },
 "nbformat": 4,
 "nbformat_minor": 2
}
